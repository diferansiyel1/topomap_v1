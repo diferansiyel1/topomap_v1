{
  "cells": [
    {
      "cell_type": "markdown",
      "metadata": {},
      "source": [
        "# EEG Topomap Lab - Tutorial\n",
        "\n",
        "Bu notebook, EEG Topomap Lab paketinin temel kullanımını gösterir.\n",
        "\n",
        "## İçerik\n",
        "1. [Kurulum](#kurulum)\n",
        "2. [Temel Kullanım](#temel-kullanım)\n",
        "3. [Veri Yükleme](#veri-yükleme)\n",
        "4. [Ön İşleme](#ön-işleme)\n",
        "5. [Metrik Hesaplama](#metrik-hesaplama)\n",
        "6. [Görselleştirme](#görselleştirme)\n",
        "7. [İstatistiksel Analiz](#istatistiksel-analiz)\n",
        "8. [Dışa Aktarma](#dışa-aktarma)\n",
        "9. [Bipolar Veri İşleme](#bipolar-veri-işleme)\n",
        "10. [CLI Kullanımı](#cli-kullanımı)\n"
      ]
    },
    {
      "cell_type": "markdown",
      "metadata": {},
      "source": [
        "## Kurulum\n"
      ]
    },
    {
      "cell_type": "code",
      "execution_count": null,
      "metadata": {},
      "outputs": [],
      "source": [
        "# Gerekli kütüphaneleri import et\n",
        "import numpy as np\n",
        "import matplotlib.pyplot as plt\n",
        "import mne\n",
        "from pathlib import Path\n",
        "\n",
        "# EEG Topomap Lab modüllerini import et\n",
        "from eeg_topomap_lab import io, preproc, metrics, bipolar, stats, viz, export\n",
        "\n",
        "# Matplotlib ayarları\n",
        "plt.rcParams['figure.figsize'] = (10, 6)\n",
        "plt.rcParams['font.size'] = 12\n"
      ]
    },
    {
      "cell_type": "markdown",
      "metadata": {},
      "source": [
        "## Temel Kullanım\n"
      ]
    },
    {
      "cell_type": "code",
      "execution_count": null,
      "metadata": {},
      "outputs": [],
      "source": [
        "# Örnek EEG verisi oluştur\n",
        "sfreq = 250\n",
        "duration = 10\n",
        "n_channels = 19\n",
        "\n",
        "# Rastgele EEG verisi\n",
        "np.random.seed(42)\n",
        "data = np.random.randn(n_channels, int(sfreq * duration))\n",
        "\n",
        "# Kanal adları (10-20 sistemi)\n",
        "ch_names = [\n",
        "    'Fp1', 'Fp2', 'F3', 'F4', 'C3', 'C4', 'P3', 'P4', 'O1', 'O2',\n",
        "    'F7', 'F8', 'T3', 'T4', 'T5', 'T6', 'Fz', 'Cz', 'Pz'\n",
        "]\n",
        "\n",
        "# MNE Info oluştur\n",
        "info = mne.create_info(ch_names, sfreq, ch_types='eeg')\n",
        "\n",
        "# Raw objesi oluştur\n",
        "raw = mne.io.RawArray(data, info, verbose=False)\n",
        "\n",
        "# Montaj uygula\n",
        "montage = mne.channels.make_standard_montage('standard_1020')\n",
        "raw.set_montage(montage)\n",
        "\n",
        "print(f\"EEG verisi yüklendi: {len(raw.ch_names)} kanal, {raw.times[-1]:.1f}s\")\n"
      ]
    }
  ],
  "metadata": {
    "language_info": {
      "name": "python"
    }
  },
  "nbformat": 4,
  "nbformat_minor": 2
}
